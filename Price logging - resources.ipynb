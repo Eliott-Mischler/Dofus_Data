{
 "cells": [
  {
   "cell_type": "code",
   "execution_count": 17,
   "metadata": {},
   "outputs": [],
   "source": [
    "import cv2\n",
    "import mss\n",
    "import numpy as np\n",
    "from config import cfg\n",
    "import os\n",
    "from PIL import Image\n",
    "from run import log_prices"
   ]
  },
  {
   "cell_type": "markdown",
   "metadata": {},
   "source": [
    "## Coordinates and offsets:\n",
    "\n",
    "`2560 * 1440px, windowed full-screen`:\n",
    "- Sub-file : digits\\QHD\\\n",
    "- Digit size (px): 9 * 14 \n",
    "- Distance between digits (px, left to right) : 2, 1, 7, 1, 2, 6, 2, 1\n",
    "- Vertical gap (px, top to bottom): 62, 61,  62, 61, 62, 62, 61, 62, 61, 62, 62, 61, 62\n",
    "- Initial top-right first potential digit coordinates (px, X,Y) : 1457, 291\n",
    "- Width and Height of one price box (px, W, H) : 103, 14 (runtime tests needed to see what box division is most efficient)\n"
   ]
  },
  {
   "cell_type": "code",
   "execution_count": 18,
   "metadata": {},
   "outputs": [],
   "source": [
    "#USE WINDOWED FULL-SCREEN (Windows Bar at default size below) AND USE A SUPPORTED RESOLUTION TAG\n",
    "# Currently supported : QHD (2560*1440)\n",
    "# Enter a tag string for the value of DISPLAY_SIZE, (QHD, HD, FULL_HD, ULTRA_HD)\n",
    "DISPLAY_SIZE = 'QHD_ROG'"
   ]
  },
  {
   "cell_type": "code",
   "execution_count": 19,
   "metadata": {},
   "outputs": [
    {
     "name": "stdout",
     "output_type": "stream",
     "text": [
      "[60, 60, 60, 60, 60, 60, 60, 60, 60, 60, 60, 60, 60]\n"
     ]
    }
   ],
   "source": [
    "config = cfg[DISPLAY_SIZE]\n",
    "digit_gap = config['digit_gap']\n",
    "price_gap = config['price_gap']\n",
    "pixel_width = config['pixel_width']\n",
    "pixel_height = config['pixel_height']\n",
    "initial_X, initial_Y = config['initial_X_Y']\n",
    "box_width, box_height = config['capture_box']\n",
    "scroll_clicks = config['scroll_clicks']\n",
    "\n",
    "print(price_gap)"
   ]
  },
  {
   "cell_type": "code",
   "execution_count": 20,
   "metadata": {},
   "outputs": [],
   "source": [
    "digits = [cv2.imread(os.path.join('digits',DISPLAY_SIZE,str(i) + '.png')) for i in range(10)]"
   ]
  },
  {
   "cell_type": "code",
   "execution_count": 21,
   "metadata": {},
   "outputs": [],
   "source": [
    "def extract_number(image):\n",
    "    number = 0\n",
    "    calc_gap = 0\n",
    "    for i, gap in enumerate(digit_gap):\n",
    "        calc_gap += gap\n",
    "        cropped = image.crop((calc_gap + pixel_width * i, 0, calc_gap + pixel_width * (i+1), 14))\n",
    "        res = [cv2.matchTemplate(np.array(cropped), digit, cv2.TM_CCOEFF_NORMED)[0] for digit in digits]\n",
    "        if max(res) > 0.4:\n",
    "            number = 10*number + res.index(max(res))\n",
    "        if max(res) > 0 and max(res) < 0.55 and res.index(max(res)) == 1:\n",
    "            print(max(res))\n",
    "            cropped.show()\n",
    "    return number"
   ]
  },
  {
   "cell_type": "code",
   "execution_count": 22,
   "metadata": {},
   "outputs": [
    {
     "data": {
      "text/plain": [
       "6"
      ]
     },
     "execution_count": 22,
     "metadata": {},
     "output_type": "execute_result"
    }
   ],
   "source": [
    "text = open(os.path.join('clean_data', 'resources.txt'), 'r', encoding='utf-8').read()\n",
    "text = [line for line in text.splitlines() if line]\n",
    "len(text[14:]) % 12"
   ]
  },
  {
   "cell_type": "code",
   "execution_count": 23,
   "metadata": {},
   "outputs": [
    {
     "ename": "TypeError",
     "evalue": "__init__() got an unexpected keyword argument 'item_name_id'",
     "output_type": "error",
     "traceback": [
      "\u001b[1;31m---------------------------------------------------------------------------\u001b[0m",
      "\u001b[1;31mTypeError\u001b[0m                                 Traceback (most recent call last)",
      "Cell \u001b[1;32mIn[23], line 32\u001b[0m\n\u001b[0;32m     30\u001b[0m         item \u001b[39m=\u001b[39m sct\u001b[39m.\u001b[39mgrab({\u001b[39m'\u001b[39m\u001b[39mtop\u001b[39m\u001b[39m'\u001b[39m: initial_Y\u001b[39m+\u001b[39m\u001b[39msum\u001b[39m(price_gap[:]), \u001b[39m'\u001b[39m\u001b[39mleft\u001b[39m\u001b[39m'\u001b[39m: initial_X, \u001b[39m'\u001b[39m\u001b[39mwidth\u001b[39m\u001b[39m'\u001b[39m: box_width, \u001b[39m'\u001b[39m\u001b[39mheight\u001b[39m\u001b[39m'\u001b[39m:box_height})\n\u001b[0;32m     31\u001b[0m     numbers\u001b[39m.\u001b[39mappend(extract_number(Image\u001b[39m.\u001b[39mfrombytes(\u001b[39m\"\u001b[39m\u001b[39mRGB\u001b[39m\u001b[39m\"\u001b[39m, item\u001b[39m.\u001b[39msize, item\u001b[39m.\u001b[39mbgra, \u001b[39m\"\u001b[39m\u001b[39mraw\u001b[39m\u001b[39m\"\u001b[39m, \u001b[39m\"\u001b[39m\u001b[39mBGRX\u001b[39m\u001b[39m\"\u001b[39m)))\n\u001b[1;32m---> 32\u001b[0m log_prices(numbers, \u001b[39m'\u001b[39;49m\u001b[39mresource\u001b[39;49m\u001b[39m'\u001b[39;49m)\n",
      "File \u001b[1;32mc:\\Code\\python_scripts\\Dofus_Data\\run.py:17\u001b[0m, in \u001b[0;36mlog_prices\u001b[1;34m(price_list, type)\u001b[0m\n\u001b[0;32m     15\u001b[0m now \u001b[39m=\u001b[39m Datetime(now, \u001b[39mtype\u001b[39m)\n\u001b[0;32m     16\u001b[0m \u001b[39mfor\u001b[39;00m i,price \u001b[39min\u001b[39;00m \u001b[39menumerate\u001b[39m(price_list):\n\u001b[1;32m---> 17\u001b[0m     item \u001b[39m=\u001b[39m Item(item_name_id\u001b[39m=\u001b[39;49mi\u001b[39m+\u001b[39;49mid_offset, price\u001b[39m=\u001b[39;49mprice)\n\u001b[0;32m     18\u001b[0m     item\u001b[39m.\u001b[39mdate_time \u001b[39m=\u001b[39m now\n\u001b[0;32m     19\u001b[0m     session\u001b[39m.\u001b[39madd(item)\n",
      "\u001b[1;31mTypeError\u001b[0m: __init__() got an unexpected keyword argument 'item_name_id'"
     ]
    }
   ],
   "source": [
    "import pyautogui\n",
    "\n",
    "with mss.mss() as sct:\n",
    "    numbers = []    \n",
    "    #Initial 2\n",
    "    item1 = sct.grab({'top': initial_Y, 'left': initial_X, 'width': box_width, 'height':box_height})\n",
    "    img = Image.frombytes(\"RGB\", item1.size, item1.bgra, \"raw\", \"BGRX\")\n",
    "    numbers.append(extract_number(img))\n",
    "    item2 = sct.grab({'top': initial_Y+price_gap[0], 'left': initial_X, 'width': box_width, 'height':box_height})\n",
    "    img2 = Image.frombytes(\"RGB\", item2.size, item2.bgra, \"raw\", \"BGRX\")\n",
    "    numbers.append(extract_number(img2))\n",
    "    iterations = len(text[14:]) // 12\n",
    "    remainder = len(text[14:]) % 12\n",
    "    pyautogui.sleep(2)\n",
    "    for i in range(12):\n",
    "        item = sct.grab({'top': initial_Y+sum(price_gap[:i+2]), 'left': initial_X, 'width': box_width, 'height':box_height})\n",
    "        numbers.append(extract_number(Image.frombytes(\"RGB\", item.size, item.bgra, \"raw\", \"BGRX\")))\n",
    "    for _ in range(iterations):\n",
    "        pyautogui.scroll(scroll_clicks)\n",
    "        for i in range(12):\n",
    "            item = sct.grab({'top': initial_Y+sum(price_gap[:i+2]), 'left': initial_X, 'width': box_width, 'height':box_height})\n",
    "            numbers.append(extract_number(Image.frombytes(\"RGB\", item.size, item.bgra, \"raw\", \"BGRX\")))\n",
    "    if remainder:\n",
    "        pyautogui.scroll(scroll_clicks)\n",
    "    for i in range(remainder-1, -1, -1):\n",
    "        if i :\n",
    "            item = sct.grab({'top': initial_Y+sum(price_gap[:-i]), 'left': initial_X, 'width': box_width, 'height':box_height})\n",
    "        else :\n",
    "            item = sct.grab({'top': initial_Y+sum(price_gap[:]), 'left': initial_X, 'width': box_width, 'height':box_height})\n",
    "        numbers.append(extract_number(Image.frombytes(\"RGB\", item.size, item.bgra, \"raw\", \"BGRX\")))\n",
    "    log_prices(numbers, 'resource')"
   ]
  }
 ],
 "metadata": {
  "kernelspec": {
   "display_name": "Python 3",
   "language": "python",
   "name": "python3"
  },
  "language_info": {
   "codemirror_mode": {
    "name": "ipython",
    "version": 3
   },
   "file_extension": ".py",
   "mimetype": "text/x-python",
   "name": "python",
   "nbconvert_exporter": "python",
   "pygments_lexer": "ipython3",
   "version": "3.11.1"
  },
  "orig_nbformat": 4,
  "vscode": {
   "interpreter": {
    "hash": "a28d6e3fb96494e265fc76f5993212755356065e7cb42ec5acde98844e411520"
   }
  }
 },
 "nbformat": 4,
 "nbformat_minor": 2
}
