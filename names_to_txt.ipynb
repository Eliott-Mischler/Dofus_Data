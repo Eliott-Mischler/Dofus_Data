{
 "cells": [
  {
   "cell_type": "code",
   "execution_count": 7,
   "metadata": {},
   "outputs": [],
   "source": [
    "import pyautogui\n",
    "import numpy as np\n",
    "import cv2\n",
    "from PIL import Image, ImageGrab\n",
    "import pytesseract\n",
    "import os\n",
    "from datetime import datetime\n",
    "#First item top-right of iconbox corner XY : 880, 273\n",
    "#End of textbox XY: 1155, 322\n",
    "\n",
    "#Text Height px: 60\n",
    "\n",
    "#Repeatable pattern for scrolls: \n",
    "# 1. Scan very first 2 items, then 3rd to 14th\n",
    "# 2. Scroll down 530 clicks,  scan 3rd to 14th again, repeat"
   ]
  },
  {
   "cell_type": "code",
   "execution_count": 8,
   "metadata": {},
   "outputs": [],
   "source": [
    "initial_item = [880, 289]\n",
    "item_name_box = [270, 24]\n",
    "repeating_box = [880, 411]"
   ]
  },
  {
   "cell_type": "code",
   "execution_count": 9,
   "metadata": {},
   "outputs": [],
   "source": [
    "def get_vals(topleft, size):\n",
    "    vals = np.empty(size, dtype='<U40')\n",
    "    for r in range(size):\n",
    "        image = ImageGrab.grab([topleft[0], topleft[1] + int(r*61.5), topleft[0]+item_name_box[0], topleft[1]+item_name_box[1]+int(r*61.5)])\n",
    "        vals[r] = pytesseract.image_to_string(image).replace('\\n','')\n",
    "    return vals"
   ]
  },
  {
   "cell_type": "code",
   "execution_count": 10,
   "metadata": {},
   "outputs": [],
   "source": [
    "pyautogui.sleep(3)\n",
    "names = get_vals(initial_item, 2)\n",
    "# 211\n",
    "for _ in range(250):\n",
    "    names = np.append(names, get_vals(repeating_box, 12))\n",
    "    pyautogui.scroll(-530)\n",
    "\n",
    "dt = datetime.now()\n",
    "with open(f'names_{dt.day}_{dt.month}_{dt.year}__{dt.hour}_{dt.minute}_{dt.second}.txt', 'w', encoding='utf-8') as f:\n",
    "    f.writelines('\\n'.join(names))"
   ]
  }
 ],
 "metadata": {
  "kernelspec": {
   "display_name": "Python 3",
   "language": "python",
   "name": "python3"
  },
  "language_info": {
   "codemirror_mode": {
    "name": "ipython",
    "version": 3
   },
   "file_extension": ".py",
   "mimetype": "text/x-python",
   "name": "python",
   "nbconvert_exporter": "python",
   "pygments_lexer": "ipython3",
   "version": "3.11.1 (tags/v3.11.1:a7a450f, Dec  6 2022, 19:58:39) [MSC v.1934 64 bit (AMD64)]"
  },
  "orig_nbformat": 4,
  "vscode": {
   "interpreter": {
    "hash": "a28d6e3fb96494e265fc76f5993212755356065e7cb42ec5acde98844e411520"
   }
  }
 },
 "nbformat": 4,
 "nbformat_minor": 2
}
