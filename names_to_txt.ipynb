{
 "cells": [
  {
   "cell_type": "code",
   "execution_count": 1,
   "metadata": {},
   "outputs": [],
   "source": [
    "import pyautogui\n",
    "import numpy as np\n",
    "import cv2\n",
    "from PIL import Image, ImageGrab\n",
    "import pytesseract\n",
    "import os\n",
    "from datetime import datetime\n",
    "#First item top-right of iconbox corner XY : 880, 273\n",
    "#End of textbox XY: 1155, 322\n",
    "\n",
    "#Text Height px: 60\n",
    "\n",
    "#Repeatable pattern for scrolls: \n",
    "# 1. Scan very first 2 items, then 3rd to 14th\n",
    "# 2. Scroll down 530 clicks,  scan 3rd to 14th again, repeat"
   ]
  },
  {
   "cell_type": "code",
   "execution_count": 2,
   "metadata": {},
   "outputs": [],
   "source": [
    "initial_item = [880, 289]\n",
    "item_name_box = [270, 24]\n",
    "repeating_box = [880, 411]"
   ]
  },
  {
   "cell_type": "code",
   "execution_count": 3,
   "metadata": {},
   "outputs": [],
   "source": [
    "def get_vals(topleft, size):\n",
    "    vals = np.empty(size, dtype='<U40')\n",
    "    for r in range(size):\n",
    "        image = ImageGrab.grab([topleft[0], topleft[1] + int(r*61.5), topleft[0]+item_name_box[0], topleft[1]+item_name_box[1]+int(r*61.5)])\n",
    "        vals[r] = pytesseract.image_to_string(image).replace('\\n','')\n",
    "    return vals"
   ]
  },
  {
   "cell_type": "code",
   "execution_count": 4,
   "metadata": {},
   "outputs": [
    {
     "ename": "KeyboardInterrupt",
     "evalue": "",
     "output_type": "error",
     "traceback": [
      "\u001b[1;31m---------------------------------------------------------------------------\u001b[0m",
      "\u001b[1;31mKeyboardInterrupt\u001b[0m                         Traceback (most recent call last)",
      "\u001b[1;32mc:\\Code\\python_scripts\\Dofus_Data\\names_to_txt.ipynb Cellule 4\u001b[0m in \u001b[0;36m<cell line: 4>\u001b[1;34m()\u001b[0m\n\u001b[0;32m      <a href='vscode-notebook-cell:/c%3A/Code/python_scripts/Dofus_Data/names_to_txt.ipynb#W3sZmlsZQ%3D%3D?line=2'>3</a>\u001b[0m \u001b[39m# 211\u001b[39;00m\n\u001b[0;32m      <a href='vscode-notebook-cell:/c%3A/Code/python_scripts/Dofus_Data/names_to_txt.ipynb#W3sZmlsZQ%3D%3D?line=3'>4</a>\u001b[0m \u001b[39mfor\u001b[39;00m _ \u001b[39min\u001b[39;00m \u001b[39mrange\u001b[39m(\u001b[39m223\u001b[39m):\n\u001b[1;32m----> <a href='vscode-notebook-cell:/c%3A/Code/python_scripts/Dofus_Data/names_to_txt.ipynb#W3sZmlsZQ%3D%3D?line=4'>5</a>\u001b[0m     names \u001b[39m=\u001b[39m np\u001b[39m.\u001b[39mappend(names, get_vals(repeating_box, \u001b[39m12\u001b[39;49m))\n\u001b[0;32m      <a href='vscode-notebook-cell:/c%3A/Code/python_scripts/Dofus_Data/names_to_txt.ipynb#W3sZmlsZQ%3D%3D?line=5'>6</a>\u001b[0m     pyautogui\u001b[39m.\u001b[39mscroll(\u001b[39m-\u001b[39m\u001b[39m530\u001b[39m)\n\u001b[0;32m      <a href='vscode-notebook-cell:/c%3A/Code/python_scripts/Dofus_Data/names_to_txt.ipynb#W3sZmlsZQ%3D%3D?line=7'>8</a>\u001b[0m dt \u001b[39m=\u001b[39m datetime\u001b[39m.\u001b[39mnow()\n",
      "\u001b[1;32mc:\\Code\\python_scripts\\Dofus_Data\\names_to_txt.ipynb Cellule 4\u001b[0m in \u001b[0;36mget_vals\u001b[1;34m(topleft, size)\u001b[0m\n\u001b[0;32m      <a href='vscode-notebook-cell:/c%3A/Code/python_scripts/Dofus_Data/names_to_txt.ipynb#W3sZmlsZQ%3D%3D?line=1'>2</a>\u001b[0m vals \u001b[39m=\u001b[39m np\u001b[39m.\u001b[39mempty(size, dtype\u001b[39m=\u001b[39m\u001b[39m'\u001b[39m\u001b[39m<U40\u001b[39m\u001b[39m'\u001b[39m)\n\u001b[0;32m      <a href='vscode-notebook-cell:/c%3A/Code/python_scripts/Dofus_Data/names_to_txt.ipynb#W3sZmlsZQ%3D%3D?line=2'>3</a>\u001b[0m \u001b[39mfor\u001b[39;00m r \u001b[39min\u001b[39;00m \u001b[39mrange\u001b[39m(size):\n\u001b[1;32m----> <a href='vscode-notebook-cell:/c%3A/Code/python_scripts/Dofus_Data/names_to_txt.ipynb#W3sZmlsZQ%3D%3D?line=3'>4</a>\u001b[0m     image \u001b[39m=\u001b[39m ImageGrab\u001b[39m.\u001b[39;49mgrab([topleft[\u001b[39m0\u001b[39;49m], topleft[\u001b[39m1\u001b[39;49m] \u001b[39m+\u001b[39;49m \u001b[39mint\u001b[39;49m(r\u001b[39m*\u001b[39;49m\u001b[39m61.5\u001b[39;49m), topleft[\u001b[39m0\u001b[39;49m]\u001b[39m+\u001b[39;49mitem_name_box[\u001b[39m0\u001b[39;49m], topleft[\u001b[39m1\u001b[39;49m]\u001b[39m+\u001b[39;49mitem_name_box[\u001b[39m1\u001b[39;49m]\u001b[39m+\u001b[39;49m\u001b[39mint\u001b[39;49m(r\u001b[39m*\u001b[39;49m\u001b[39m61.5\u001b[39;49m)])\n\u001b[0;32m      <a href='vscode-notebook-cell:/c%3A/Code/python_scripts/Dofus_Data/names_to_txt.ipynb#W3sZmlsZQ%3D%3D?line=4'>5</a>\u001b[0m     vals[r] \u001b[39m=\u001b[39m pytesseract\u001b[39m.\u001b[39mimage_to_string(image)\u001b[39m.\u001b[39mreplace(\u001b[39m'\u001b[39m\u001b[39m\\n\u001b[39;00m\u001b[39m'\u001b[39m,\u001b[39m'\u001b[39m\u001b[39m'\u001b[39m)\n\u001b[0;32m      <a href='vscode-notebook-cell:/c%3A/Code/python_scripts/Dofus_Data/names_to_txt.ipynb#W3sZmlsZQ%3D%3D?line=5'>6</a>\u001b[0m \u001b[39mreturn\u001b[39;00m vals\n",
      "File \u001b[1;32mc:\\Python310\\lib\\site-packages\\PIL\\ImageGrab.py:50\u001b[0m, in \u001b[0;36mgrab\u001b[1;34m(bbox, include_layered_windows, all_screens, xdisplay)\u001b[0m\n\u001b[0;32m     46\u001b[0m \u001b[39melif\u001b[39;00m sys\u001b[39m.\u001b[39mplatform \u001b[39m==\u001b[39m \u001b[39m\"\u001b[39m\u001b[39mwin32\u001b[39m\u001b[39m\"\u001b[39m:\n\u001b[0;32m     47\u001b[0m     offset, size, data \u001b[39m=\u001b[39m Image\u001b[39m.\u001b[39mcore\u001b[39m.\u001b[39mgrabscreen_win32(\n\u001b[0;32m     48\u001b[0m         include_layered_windows, all_screens\n\u001b[0;32m     49\u001b[0m     )\n\u001b[1;32m---> 50\u001b[0m     im \u001b[39m=\u001b[39m Image\u001b[39m.\u001b[39;49mfrombytes(\n\u001b[0;32m     51\u001b[0m         \u001b[39m\"\u001b[39;49m\u001b[39mRGB\u001b[39;49m\u001b[39m\"\u001b[39;49m,\n\u001b[0;32m     52\u001b[0m         size,\n\u001b[0;32m     53\u001b[0m         data,\n\u001b[0;32m     54\u001b[0m         \u001b[39m# RGB, 32-bit line padding, origin lower left corner\u001b[39;49;00m\n\u001b[0;32m     55\u001b[0m         \u001b[39m\"\u001b[39;49m\u001b[39mraw\u001b[39;49m\u001b[39m\"\u001b[39;49m,\n\u001b[0;32m     56\u001b[0m         \u001b[39m\"\u001b[39;49m\u001b[39mBGR\u001b[39;49m\u001b[39m\"\u001b[39;49m,\n\u001b[0;32m     57\u001b[0m         (size[\u001b[39m0\u001b[39;49m] \u001b[39m*\u001b[39;49m \u001b[39m3\u001b[39;49m \u001b[39m+\u001b[39;49m \u001b[39m3\u001b[39;49m) \u001b[39m&\u001b[39;49m \u001b[39m-\u001b[39;49m\u001b[39m4\u001b[39;49m,\n\u001b[0;32m     58\u001b[0m         \u001b[39m-\u001b[39;49m\u001b[39m1\u001b[39;49m,\n\u001b[0;32m     59\u001b[0m     )\n\u001b[0;32m     60\u001b[0m     \u001b[39mif\u001b[39;00m bbox:\n\u001b[0;32m     61\u001b[0m         x0, y0 \u001b[39m=\u001b[39m offset\n",
      "File \u001b[1;32mc:\\Python310\\lib\\site-packages\\PIL\\Image.py:2821\u001b[0m, in \u001b[0;36mfrombytes\u001b[1;34m(mode, size, data, decoder_name, *args)\u001b[0m\n\u001b[0;32m   2818\u001b[0m \u001b[39mif\u001b[39;00m decoder_name \u001b[39m==\u001b[39m \u001b[39m\"\u001b[39m\u001b[39mraw\u001b[39m\u001b[39m\"\u001b[39m \u001b[39mand\u001b[39;00m args \u001b[39m==\u001b[39m ():\n\u001b[0;32m   2819\u001b[0m     args \u001b[39m=\u001b[39m mode\n\u001b[1;32m-> 2821\u001b[0m im \u001b[39m=\u001b[39m new(mode, size)\n\u001b[0;32m   2822\u001b[0m im\u001b[39m.\u001b[39mfrombytes(data, decoder_name, args)\n\u001b[0;32m   2823\u001b[0m \u001b[39mreturn\u001b[39;00m im\n",
      "File \u001b[1;32mc:\\Python310\\lib\\site-packages\\PIL\\Image.py:2785\u001b[0m, in \u001b[0;36mnew\u001b[1;34m(mode, size, color)\u001b[0m\n\u001b[0;32m   2783\u001b[0m     im\u001b[39m.\u001b[39mpalette \u001b[39m=\u001b[39m ImagePalette\u001b[39m.\u001b[39mImagePalette()\n\u001b[0;32m   2784\u001b[0m     color \u001b[39m=\u001b[39m im\u001b[39m.\u001b[39mpalette\u001b[39m.\u001b[39mgetcolor(color)\n\u001b[1;32m-> 2785\u001b[0m \u001b[39mreturn\u001b[39;00m im\u001b[39m.\u001b[39m_new(core\u001b[39m.\u001b[39;49mfill(mode, size, color))\n",
      "\u001b[1;31mKeyboardInterrupt\u001b[0m: "
     ]
    }
   ],
   "source": [
    "pyautogui.sleep(3)\n",
    "names = get_vals(initial_item, 2)\n",
    "# 211\n",
    "for _ in range(223):\n",
    "    names = np.append(names, get_vals(repeating_box, 12))\n",
    "    pyautogui.scroll(-530)\n",
    "\n",
    "dt = datetime.now()\n",
    "with open(f'names_{dt.day}_{dt.month}_{dt.year}__{dt.hour}_{dt.minute}_{dt.second}.txt', 'w', encoding='utf-8') as f:\n",
    "    f.writelines('\\n'.join(names))"
   ]
  }
 ],
 "metadata": {
  "kernelspec": {
   "display_name": "Python 3.10.4 64-bit",
   "language": "python",
   "name": "python3"
  },
  "language_info": {
   "codemirror_mode": {
    "name": "ipython",
    "version": 3
   },
   "file_extension": ".py",
   "mimetype": "text/x-python",
   "name": "python",
   "nbconvert_exporter": "python",
   "pygments_lexer": "ipython3",
   "version": "3.10.4"
  },
  "orig_nbformat": 4,
  "vscode": {
   "interpreter": {
    "hash": "369f2c481f4da34e4445cda3fffd2e751bd1c4d706f27375911949ba6bb62e1c"
   }
  }
 },
 "nbformat": 4,
 "nbformat_minor": 2
}
